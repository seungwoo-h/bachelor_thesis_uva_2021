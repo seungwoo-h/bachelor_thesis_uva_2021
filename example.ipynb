{
 "cells": [
  {
   "cell_type": "code",
   "execution_count": 1,
   "metadata": {},
   "outputs": [],
   "source": [
    "import argparse\n",
    "import copy\n",
    "import pandas as pd\n",
    "import numpy as np\n",
    "import torch\n",
    "\n",
    "from src.preprocessor import basic_preprocess, test_preprocess, select_features\n",
    "from src.model import get_model, get_autoencoder\n",
    "from src.metric import rmsle\n",
    "from src.train import train_cv, train_pca_cv, train_ae_cv\n",
    "from src.inference import cv_ensemble, cv_ensemble_pca, cv_ensemble_kmeans, cv_ensemble_ae\n",
    "\n",
    "device = torch.device(\"cuda:0\" if torch.cuda.is_available() else \"cpu\")"
   ]
  },
  {
   "cell_type": "code",
   "execution_count": 2,
   "metadata": {},
   "outputs": [],
   "source": [
    "parser = argparse.ArgumentParser()\n",
    "\n",
    "# Set Tasks\n",
    "parser.add_argument(\"--run_all\", type=str, default=\"true\")\n",
    "parser.add_argument(\"--feature_selection_method\", type=str, default=\"embedded\") # Option: none, wrapper, filter, embedded\n",
    "parser.add_argument(\"--feature_extraction_method\", type=str, default=\"autoencoder\") # Option: none, pca, kmeans, autoencoder\n",
    "parser.add_argument(\"--base_model\", type=str, default=\"lgbm\") # Option: linear_reg, random_forest, lgbm\n",
    "\n",
    "# General Options\n",
    "parser.add_argument(\"--extract_dim\", type=int, default=8)\n",
    "parser.add_argument(\"--seed\", type=int, default=42)\n",
    "parser.add_argument(\"--train_data_path\", type=str, default=\"./data/sberbank-russian-housing-market/train.csv\")\n",
    "parser.add_argument(\"--test_data_path\", type=str, default=\"./data/sberbank-russian-housing-market/test.csv\")\n",
    "parser.add_argument(\"--sample_submission_path\", type=str, default=\"./data/sberbank-russian-housing-market/sample_submission.csv\")\n",
    "parser.add_argument(\"--submission_path\", type=str, default=\"./data/\")\n",
    "\n",
    "# Training Options\n",
    "parser.add_argument(\"--num_cv_split\", type=int, default=5)\n",
    "parser.add_argument(\"--use_top_n_features\", type=int, default=20)\n",
    "\n",
    "# K-Means Options\n",
    "parser.add_argument(\"--kmeans_max_iter\", type=int, default=300)\n",
    "parser.add_argument(\"--kmeans_n_clusters\", type=int, default=8)\n",
    "\n",
    "# Autoencoder Options\n",
    "parser.add_argument(\"--ae_train\", type=str, default=\"false\")\n",
    "parser.add_argument(\"--ae_val_size\", type=float, default=0.1)\n",
    "parser.add_argument(\"--ae_learning_rate\", type=float, default=3e-4)\n",
    "parser.add_argument(\"--ae_batch_size\", type=int, default=32)\n",
    "parser.add_argument(\"--ae_num_workers\", type=int, default=4)\n",
    "parser.add_argument(\"--ae_hidden_dim\", type=int, default=8)\n",
    "parser.add_argument(\"--ae_num_epochs\", type=int, default=500)\n",
    "parser.add_argument(\"--ae_checkpoint_dir\", type=str, default=\"./checkpoints\")\n",
    "parser.add_argument(\"--ae_load_model_dir\", type=str, default=\"./checkpoints/model-457.bin\")\n",
    "\n",
    "# PCA Options\n",
    "parser.add_argument(\"--pca_n_components\", type=int, default=8)\n",
    "\n",
    "args = parser.parse_args([])\n",
    "args.device = device"
   ]
  },
  {
   "cell_type": "code",
   "execution_count": 3,
   "metadata": {},
   "outputs": [],
   "source": [
    "# Load and process data\n",
    "\n",
    "train_data = pd.read_csv(args.train_data_path)\n",
    "train_data = basic_preprocess(train_data, args)\n",
    "X = train_data.drop('price_doc', axis=1)\n",
    "y = train_data['price_doc']\n",
    "\n",
    "args.processed_dim = len(X.columns)"
   ]
  },
  {
   "cell_type": "code",
   "execution_count": 4,
   "metadata": {},
   "outputs": [],
   "source": [
    "# Get pipeline\n",
    "\n",
    "pipeline = get_model(args)"
   ]
  },
  {
   "cell_type": "code",
   "execution_count": 5,
   "metadata": {},
   "outputs": [
    {
     "name": "stderr",
     "output_type": "stream",
     "text": [
      "/Users/swhong/anaconda3/lib/python3.8/site-packages/sklearn/model_selection/_split.py:293: FutureWarning: Setting a random_state has no effect since shuffle is False. This will raise an error in 0.24. You should leave random_state to its default (None), or set shuffle=True.\n",
      "  warnings.warn(\n"
     ]
    },
    {
     "name": "stdout",
     "output_type": "stream",
     "text": [
      "[1/5] Train Size: 24080 | Val Size: 6021 | RMSLE: 0.623\n",
      "[2/5] Train Size: 24081 | Val Size: 6020 | RMSLE: 0.427\n",
      "[3/5] Train Size: 24081 | Val Size: 6020 | RMSLE: 0.478\n",
      "[4/5] Train Size: 24081 | Val Size: 6020 | RMSLE: 0.457\n",
      "[5/5] Train Size: 24081 | Val Size: 6020 | RMSLE: 0.428\n",
      "Average RMSLE: 0.48 | CV RMSLE Std. Dev: 0.07 \n",
      "\n"
     ]
    }
   ],
   "source": [
    "# Train\n",
    "\n",
    "if args.feature_selection_method in [\"embedded\", \"none\"]:\n",
    "    models_, scores_ = train_cv(X, y, get_model(args, True), args)"
   ]
  },
  {
   "cell_type": "code",
   "execution_count": 6,
   "metadata": {},
   "outputs": [],
   "source": [
    "# Feature selection\n",
    "\n",
    "if args.feature_selection_method == \"embedded\":\n",
    "    selected_features, excluded_features = select_features(models_, train_data, args)\n",
    "\n",
    "elif args.feature_selection_method == \"filter\":\n",
    "    selected_features, excluded_features = select_features(None, train_data, args)\n",
    "    \n",
    "X_selected = X[selected_features] \n",
    "X_unselected = X[excluded_features]"
   ]
  },
  {
   "cell_type": "code",
   "execution_count": 7,
   "metadata": {},
   "outputs": [
    {
     "name": "stderr",
     "output_type": "stream",
     "text": [
      "/Users/swhong/anaconda3/lib/python3.8/site-packages/sklearn/model_selection/_split.py:293: FutureWarning: Setting a random_state has no effect since shuffle is False. This will raise an error in 0.24. You should leave random_state to its default (None), or set shuffle=True.\n",
      "  warnings.warn(\n"
     ]
    },
    {
     "name": "stdout",
     "output_type": "stream",
     "text": [
      "[1/5] Train Size: 24080 | Val Size: 6021 | RMSLE: 0.618\n",
      "[2/5] Train Size: 24081 | Val Size: 6020 | RMSLE: 0.434\n",
      "[3/5] Train Size: 24081 | Val Size: 6020 | RMSLE: 0.481\n",
      "[4/5] Train Size: 24081 | Val Size: 6020 | RMSLE: 0.461\n",
      "[5/5] Train Size: 24081 | Val Size: 6020 | RMSLE: 0.423\n",
      "Average RMSLE: 0.48 | CV RMSLE Std. Dev: 0.07 \n",
      "\n"
     ]
    }
   ],
   "source": [
    "# Feature extraction & Train base model\n",
    "\n",
    "if args.feature_extraction_method == \"none\":\n",
    "    models_, scores_ = train_cv(X_selected, y, pipeline, args)\n",
    "\n",
    "elif args.feature_extraction_method == \"pca\":\n",
    "    models_, scalers_, pcas_, scores_ = train_pca_cv(X, y, pipeline, selected_features, excluded_features, args)\n",
    "\n",
    "elif args.feature_extraction_method == \"kmeans\":\n",
    "    models_, clusterers_, scores_ = train_kmeans_cv(X, y, pipeline, selected_features, excluded_features, args)\n",
    "\n",
    "elif args.feature_extraction_method == \"autoencoder\":\n",
    "    ae_model = get_autoencoder(args)\n",
    "    models_, scalers_, scores_ = train_ae_cv(X, y, pipeline, selected_features, excluded_features, ae_model, args)\n"
   ]
  },
  {
   "cell_type": "code",
   "execution_count": 9,
   "metadata": {},
   "outputs": [],
   "source": [
    "# Inference\n",
    "\n",
    "test_data = pd.read_csv(args.test_data_path)\n",
    "test_data = test_preprocess(test_data, args)\n",
    "\n",
    "if args.feature_selection_method == \"none\":\n",
    "    test_pred = cv_ensemble(models_, test_data)\n",
    "\n",
    "elif args.feature_extraction_method == \"none\":\n",
    "    test_pred = cv_ensemble(models_, test_data, selected_features)\n",
    "    \n",
    "if args.feature_extraction_method == \"pca\":\n",
    "    test_pred = cv_ensemble_pca(models_, scalers_, pcas_, test_data, selected_features, excluded_features)\n",
    "\n",
    "elif args.feature_extraction_method == \"kmeans\":\n",
    "    test_pred = cv_ensemble_kmeans(models_, clusterers_, test_data, selected_features, excluded_features)\n",
    "\n",
    "elif args.feature_extraction_method == \"autoencoder\":\n",
    "    test_pred = cv_ensemble_ae(models_, scalers_, test_data, selected_features, excluded_features, ae_model)"
   ]
  },
  {
   "cell_type": "code",
   "execution_count": 10,
   "metadata": {},
   "outputs": [],
   "source": [
    "# Save\n",
    "\n",
    "submission = pd.read_csv(args.sample_submission_path)\n",
    "submission['price_doc'] = test_pred\n",
    "sub_path = f\"{args.submission_path}result_{args.feature_selection_method}_{args.feature_extraction_method}_{args.base_model}_seed{args.seed}.csv\"\n",
    "submission.to_csv(sub_path, index=False)"
   ]
  },
  {
   "cell_type": "code",
   "execution_count": null,
   "metadata": {},
   "outputs": [],
   "source": []
  }
 ],
 "metadata": {
  "kernelspec": {
   "display_name": "Python 3",
   "language": "python",
   "name": "python3"
  },
  "language_info": {
   "codemirror_mode": {
    "name": "ipython",
    "version": 3
   },
   "file_extension": ".py",
   "mimetype": "text/x-python",
   "name": "python",
   "nbconvert_exporter": "python",
   "pygments_lexer": "ipython3",
   "version": "3.8.5"
  }
 },
 "nbformat": 4,
 "nbformat_minor": 4
}
